{
 "cells": [
  {
   "cell_type": "markdown",
   "metadata": {},
   "source": [
    "# str内置函数\n",
    "### 查找类函数\n",
    "- 字符串查找类，find,index,islower\n",
    "- find:查找字符串中是否包含一个字串\n",
    "- index:跟find的唯一区别是index如果找不到会引发异常\n",
    "- rfind,lfind:从右或从左开始从查找\n",
    "\n"
   ]
  },
  {
   "cell_type": "code",
   "execution_count": 1,
   "metadata": {},
   "outputs": [
    {
     "name": "stdout",
     "output_type": "stream",
     "text": [
      "Help on method_descriptor:\n",
      "\n",
      "find(...)\n",
      "    S.find(sub[, start[, end]]) -> int\n",
      "    \n",
      "    Return the lowest index in S where substring sub is found,\n",
      "    such that sub is contained within S[start:end].  Optional\n",
      "    arguments start and end are interpreted as in slice notation.\n",
      "    \n",
      "    Return -1 on failure.\n",
      "\n"
     ]
    }
   ],
   "source": [
    "help(str.find)"
   ]
  },
  {
   "cell_type": "code",
   "execution_count": 4,
   "metadata": {},
   "outputs": [
    {
     "data": {
      "text/plain": [
       "-1"
      ]
     },
     "execution_count": 4,
     "metadata": {},
     "output_type": "execute_result"
    }
   ],
   "source": [
    "s = \"I love Python and Python is a programming language\"\n",
    "s1 = \"Python\"\n",
    "# 返回第一次发现这个字符串的位置，位置从0开始\n",
    "s.find(s1)\n",
    "\n",
    "# 返回-1表示没有找到\n",
    "s2 = \"wan\"\n",
    "s.find(s2)\n"
   ]
  },
  {
   "cell_type": "code",
   "execution_count": 6,
   "metadata": {},
   "outputs": [
    {
     "name": "stdout",
     "output_type": "stream",
     "text": [
      "Help on method_descriptor:\n",
      "\n",
      "index(...)\n",
      "    S.index(sub[, start[, end]]) -> int\n",
      "    \n",
      "    Return the lowest index in S where substring sub is found, \n",
      "    such that sub is contained within S[start:end].  Optional\n",
      "    arguments start and end are interpreted as in slice notation.\n",
      "    \n",
      "    Raises ValueError when the substring is not found.\n",
      "\n"
     ]
    }
   ],
   "source": [
    "help(str.index)"
   ]
  },
  {
   "cell_type": "code",
   "execution_count": 7,
   "metadata": {},
   "outputs": [
    {
     "data": {
      "text/plain": [
       "7"
      ]
     },
     "execution_count": 7,
     "metadata": {},
     "output_type": "execute_result"
    }
   ],
   "source": [
    "s.index(s1)"
   ]
  },
  {
   "cell_type": "code",
   "execution_count": 9,
   "metadata": {},
   "outputs": [
    {
     "ename": "ValueError",
     "evalue": "substring not found",
     "output_type": "error",
     "traceback": [
      "\u001b[1;31m---------------------------------------------------------------------------\u001b[0m",
      "\u001b[1;31mValueError\u001b[0m                                Traceback (most recent call last)",
      "\u001b[1;32m<ipython-input-9-c2e5d6055b64>\u001b[0m in \u001b[0;36m<module>\u001b[1;34m()\u001b[0m\n\u001b[1;32m----> 1\u001b[1;33m \u001b[0ms\u001b[0m\u001b[1;33m.\u001b[0m\u001b[0mindex\u001b[0m\u001b[1;33m(\u001b[0m\u001b[0ms2\u001b[0m\u001b[1;33m)\u001b[0m\u001b[1;33m\u001b[0m\u001b[0m\n\u001b[0m",
      "\u001b[1;31mValueError\u001b[0m: substring not found"
     ]
    }
   ],
   "source": [
    "# index会报错或者引发异常\n",
    "s.index(s2)"
   ]
  },
  {
   "cell_type": "code",
   "execution_count": 11,
   "metadata": {},
   "outputs": [
    {
     "data": {
      "text/plain": [
       "18"
      ]
     },
     "execution_count": 11,
     "metadata": {},
     "output_type": "execute_result"
    }
   ],
   "source": [
    "# 使用的时候还可以使用区间\n",
    "s = \"I love Python and Python is a programming language\"\n",
    "s1 = \"Python\"\n",
    "\n",
    "# 从下标10开始查找，看能否找到\n",
    "s.find(s1,10)\n"
   ]
  },
  {
   "cell_type": "code",
   "execution_count": 13,
   "metadata": {},
   "outputs": [
    {
     "name": "stdout",
     "output_type": "stream",
     "text": [
      "Help on method_descriptor:\n",
      "\n",
      "rfind(...)\n",
      "    S.rfind(sub[, start[, end]]) -> int\n",
      "    \n",
      "    Return the highest index in S where substring sub is found,\n",
      "    such that sub is contained within S[start:end].  Optional\n",
      "    arguments start and end are interpreted as in slice notation.\n",
      "    \n",
      "    Return -1 on failure.\n",
      "\n"
     ]
    }
   ],
   "source": [
    "help(str.rfind)"
   ]
  },
  {
   "cell_type": "markdown",
   "metadata": {},
   "source": [
    "### 判断类函数\n",
    "- 此类函数的特点是一般都用is开头，比如islower\n",
    "- isalpha：判断是否是字母，需要注意两点：\n",
    "  - 此函数默认的前提是字符串至少包含一个字符，如果没有，同样返回False\n",
    "  - 汉字被认为是alpha，所以，此函数不能作为区分英语字母还是汉字的标识，区分中英文请使用unicode码\n",
    "  - 注意使用区别\n",
    "- isdigit,isnumeric,isdecimal三个判断数字的函数\n",
    "  - 此类函数不建议使用，在后期爬虫中，判断是否是数字建议采用正则表达式的方式\n",
    "- islower：判断是否是大写或者小写\n",
    "  "
   ]
  },
  {
   "cell_type": "code",
   "execution_count": 15,
   "metadata": {},
   "outputs": [
    {
     "name": "stdout",
     "output_type": "stream",
     "text": [
      "True\n"
     ]
    }
   ],
   "source": [
    "# 以下三个都不是的，因为有除了字母以外的空格等\n",
    "s = \"I love Python and Python is a programming language\"\n",
    "print(s1.isalpha())"
   ]
  },
  {
   "cell_type": "code",
   "execution_count": 16,
   "metadata": {},
   "outputs": [
    {
     "name": "stdout",
     "output_type": "stream",
     "text": [
      "False\n",
      "True\n",
      "False\n"
     ]
    }
   ],
   "source": [
    "# 需要注意的是，因为输入法的问题，输入罗马数字可能得不到我们想要的结果\n",
    "chin_num = \"一二三四\"\n",
    "print(chin_num.isdigit())\n",
    "print(chin_num.isnumeric())\n",
    "print(chin_num.isdecimal())"
   ]
  },
  {
   "cell_type": "markdown",
   "metadata": {},
   "source": [
    "# 内容判断类\n",
    "- startswith/endswith:是否以XXX开头或结尾\n",
    "  - 检测某个字符串是否以某个字串开头，常用三个参数\n",
    "  - suffix:被检查的字符串，必须有\n",
    "  - start：检查范围的开始范围\n",
    "  - end： 检查范围的结束范围\n",
    "- islower/isupper：判断字符串是否是大写或小写\n",
    "  - 空格不影响结果\n",
    "  - 汉字字符串无大小写概念\n"
   ]
  },
  {
   "cell_type": "code",
   "execution_count": 1,
   "metadata": {},
   "outputs": [
    {
     "name": "stdout",
     "output_type": "stream",
     "text": [
      "True\n",
      "True\n"
     ]
    }
   ],
   "source": [
    "we = \"We\"\n",
    "python = \"Python\"\n",
    "\n",
    "s = \"We love Python\"\n",
    "print(s.startswith(we))\n",
    "print(s.endswith(python))"
   ]
  },
  {
   "cell_type": "markdown",
   "metadata": {},
   "source": [
    "### 操作类函数\n",
    "- format 格式化\n",
    "- strip 删除空格\n",
    "- strip相似的函数还包含lstrip，rstrip\n",
    "- join:把两个字符串拼接在一起"
   ]
  },
  {
   "cell_type": "code",
   "execution_count": 6,
   "metadata": {},
   "outputs": [
    {
     "name": "stdout",
     "output_type": "stream",
     "text": [
      "WWWWe are family--------\n",
      "--------------\n",
      "e are family  --------\n"
     ]
    }
   ],
   "source": [
    "c = \"WWWWe are family  \"\n",
    "\n",
    "# 是否成功删除两边空格不能观察出来\n",
    "print(c.strip(),end = \"--------\")\n",
    "print()\n",
    "\n",
    "print(\"--------------\")\n",
    "print(c.strip(\"W\"),end = \"--------\")\n",
    "print()\n"
   ]
  },
  {
   "cell_type": "code",
   "execution_count": 5,
   "metadata": {},
   "outputs": [
    {
     "name": "stdout",
     "output_type": "stream",
     "text": [
      "Help on method_descriptor:\n",
      "\n",
      "strip(self, chars=None, /)\n",
      "    Return a copy of the string with leading and trailing whitespace remove.\n",
      "    \n",
      "    If chars is given and not None, remove characters in chars instead.\n",
      "\n"
     ]
    }
   ],
   "source": [
    "help(str.strip)"
   ]
  },
  {
   "cell_type": "code",
   "execution_count": 1,
   "metadata": {},
   "outputs": [
    {
     "name": "stdout",
     "output_type": "stream",
     "text": [
      "We$are$family\n",
      "We-are-family\n",
      "We are family\n"
     ]
    }
   ],
   "source": [
    "# join的例子，我们需要使用s1，s2，s3作为分隔符，把ss内的内容拼接在一起\n",
    "s1 = \"$\"\n",
    "s2 = \"-\"\n",
    "s3 = \" \"\n",
    "ss = [\"We\",\"are\",\"family\"]\n",
    "print(s1.join(ss))\n",
    "print(s2.join(ss))\n",
    "print(s3.join(ss))"
   ]
  },
  {
   "cell_type": "markdown",
   "metadata": {},
   "source": [
    "# list列表\n",
    "- 一组由有序数据做成的序列\n",
    "   - 数据就有先后顺序\n",
    "   - 数据可以不是一类数据\n",
    "- list的创建\n",
    "    - 直接创建，用中括号创建，内容用英文逗号隔开\n",
    "    - 使用list创建\n",
    "    - 列表里包含单个字符串时是一个特例"
   ]
  },
  {
   "cell_type": "markdown",
   "metadata": {},
   "source": [
    "Python中的内置类型\n",
    "str\n",
    "list\n",
    "tuple\n",
    "set\n",
    "dict"
   ]
  },
  {
   "cell_type": "code",
   "execution_count": 4,
   "metadata": {},
   "outputs": [
    {
     "name": "stdout",
     "output_type": "stream",
     "text": [
      "[1, 2, 3, 4, 5]\n",
      "[1, 2, 3, 'xiaojing', '大拿']\n"
     ]
    }
   ],
   "source": [
    "# 直接赋值创建列表\n",
    "L1 = [1,2,3,4,5]\n",
    "# list内的数据可以不是一个类型\n",
    "L2 = [1,2,3,\"xiaojing\",\"大拿\"]\n",
    "print(L1)\n",
    "print(L2)"
   ]
  },
  {
   "cell_type": "code",
   "execution_count": 6,
   "metadata": {},
   "outputs": [
    {
     "name": "stdout",
     "output_type": "stream",
     "text": [
      "[]\n",
      "<class 'list'>\n"
     ]
    }
   ],
   "source": [
    "# 创建列表的第二种方式\n",
    "L3 = list()\n",
    "print(L3)\n",
    "print(type(L3))"
   ]
  },
  {
   "cell_type": "markdown",
   "metadata": {},
   "source": [
    "# 内置函数的概念\n",
    "- help\n",
    "- type\n",
    "- id\n",
    "- print"
   ]
  },
  {
   "cell_type": "code",
   "execution_count": 8,
   "metadata": {},
   "outputs": [
    {
     "name": "stdout",
     "output_type": "stream",
     "text": [
      "<class 'list'>\n",
      "['liudana']\n"
     ]
    }
   ],
   "source": [
    "# list创建的特例演示\n",
    "s = \"liudana\"\n",
    "L1 = [s]\n",
    "print(type(L1))\n",
    "print(L1)"
   ]
  },
  {
   "cell_type": "code",
   "execution_count": 9,
   "metadata": {},
   "outputs": [
    {
     "name": "stdout",
     "output_type": "stream",
     "text": [
      "<class 'list'>\n",
      "['l', 'i', 'u', 'd', 'a', 'n', 'a']\n"
     ]
    }
   ],
   "source": [
    "# list创建的特例演示\n",
    "s = \"liudana\"\n",
    "L1 = list(s)\n",
    "print(type(L1))\n",
    "print(L1)"
   ]
  },
  {
   "cell_type": "markdown",
   "metadata": {},
   "source": [
    "# 列表的常见操作\n"
   ]
  }
 ],
 "metadata": {
  "kernelspec": {
   "display_name": "Python 3",
   "language": "python",
   "name": "python3"
  },
  "language_info": {
   "codemirror_mode": {
    "name": "ipython",
    "version": 3
   },
   "file_extension": ".py",
   "mimetype": "text/x-python",
   "name": "python",
   "nbconvert_exporter": "python",
   "pygments_lexer": "ipython3",
   "version": "3.7.0"
  }
 },
 "nbformat": 4,
 "nbformat_minor": 2
}
