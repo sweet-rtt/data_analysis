{
 "cells": [
  {
   "cell_type": "markdown",
   "metadata": {},
   "source": [
    "# while 循环\n",
    "- 一个循环语句\n",
    "- 表示当某条件成立的时候，就循环\n",
    "- 不知道具体循环次数，但能确定循环的成立条件时用while循环\n",
    "- while语法：\n",
    "- 表达方法1\n",
    "\n",
    "    while 条件表达式：\n",
    "        语句块\n",
    "- 表达方法2\n",
    "\n",
    "    while 条件表达式：\n",
    "        语句块1\n",
    "    else：\n",
    "        语句块2"
   ]
  },
  {
   "cell_type": "code",
   "execution_count": 2,
   "metadata": {},
   "outputs": [
    {
     "name": "stdout",
     "output_type": "stream",
     "text": [
      "1年后本利之和为106700.0\n",
      "2年后本利之和为113848.9\n",
      "3年后本利之和为121476.77629999998\n",
      "4年后本利之和为129615.72031209998\n",
      "5年后本利之和为138299.97357301068\n",
      "6年后本利之和为147566.07180240238\n",
      "7年后本利之和为157452.99861316333\n",
      "8年后本利之和为168002.34952024528\n",
      "9年后本利之和为179258.5069381017\n",
      "10年后本利之和为191268.8269029545\n",
      "11年后本利之和为204083.83830545243\n"
     ]
    }
   ],
   "source": [
    "# 年利率6.7%，多少年后本利翻倍\n",
    "\n",
    "benqian = 100000\n",
    "year = 0\n",
    "while benqian < 200000:\n",
    "    benqian = benqian * (1 + 0.067)\n",
    "    year += 1\n",
    "    print(\"{0}年后本利之和为{1}\".format(year, benqian))"
   ]
  },
  {
   "cell_type": "code",
   "execution_count": 3,
   "metadata": {},
   "outputs": [
    {
     "name": "stdout",
     "output_type": "stream",
     "text": [
      "1年后本利之和为106700.0\n",
      "2年后本利之和为113848.9\n",
      "3年后本利之和为121476.77629999998\n",
      "4年后本利之和为129615.72031209998\n",
      "5年后本利之和为138299.97357301068\n",
      "6年后本利之和为147566.07180240238\n",
      "7年后本利之和为157452.99861316333\n",
      "8年后本利之和为168002.34952024528\n",
      "9年后本利之和为179258.5069381017\n",
      "10年后本利之和为191268.8269029545\n",
      "11年后本利之和为204083.83830545243\n",
      "终于翻倍了\n"
     ]
    }
   ],
   "source": [
    "# 年利率6.7%，多少年后本利翻倍\n",
    "# 如果拿到的钱翻倍，则用print庆祝一下\n",
    "benqian = 100000\n",
    "year = 0\n",
    "while benqian < 200000:\n",
    "    benqian = benqian * (1 + 0.067)\n",
    "    year += 1\n",
    "    print(\"{0}年后本利之和为{1}\".format(year, benqian))\n",
    "else:\n",
    "    print(\"终于翻倍了\")"
   ]
  },
  {
   "cell_type": "markdown",
   "metadata": {},
   "source": [
    "# 函数\n",
    "- 代码的一种组织形式\n",
    "- 一个函数一般完成一项特定的功能\n",
    "- 函数使用\n",
    "    - 函数需要先定义\n",
    "    - 使用函数，俗称调用"
   ]
  },
  {
   "cell_type": "code",
   "execution_count": 4,
   "metadata": {},
   "outputs": [],
   "source": [
    "# 定义一个函数\n",
    "# 只是定义的话，不会执行\n",
    "# 1.def关键字，后跟一个空格\n",
    "# 2.函数名自定义，起名需要遵循命名规则，约定俗成，大驼峰命名只给类用\n",
    "# 3.后面括号、冒号不能省，括号内可以有参数\n",
    "# 4.函数内所有的代码缩进\n",
    "\n",
    "def func():\n",
    "    print(\"我是一个函数\")\n",
    "    print(\"我要完成一个功能\")\n",
    "    print(\"我结束了\")\n"
   ]
  },
  {
   "cell_type": "code",
   "execution_count": 5,
   "metadata": {},
   "outputs": [
    {
     "name": "stdout",
     "output_type": "stream",
     "text": [
      "我是一个函数\n",
      "我要完成一个功能\n",
      "我结束了\n"
     ]
    }
   ],
   "source": [
    "# 函数的调用\n",
    "# 直接函数名后面跟括号\n",
    "func()"
   ]
  },
  {
   "cell_type": "markdown",
   "metadata": {},
   "source": [
    "### 函数的参数和返回值\n",
    "- 参数：负责给函数传递一些必要的数据或信息\n",
    "  - 形参（形式参数）：在函数定义的时候用到的参数没有具体值，只是一个占位的符号，称为形参\n",
    "  - 实参（实际参数）：在调用函数的时候输入的值\n",
    "- 返回值：函数的执行结果\n",
    "   - 使用return关键字\n",
    "   - 如果没有return，默认返回一个None\n",
    "   - 函数一旦执行return，则无条件返回，即结束函数的执行"
   ]
  },
  {
   "cell_type": "code",
   "execution_count": 10,
   "metadata": {},
   "outputs": [
    {
     "name": "stdout",
     "output_type": "stream",
     "text": [
      "龄松,你好\n",
      "Sir, good morning\n"
     ]
    }
   ],
   "source": [
    "# 参数的定义和使用\n",
    "# 调用的时候，会用p的值代替函数中的person\n",
    "def hello(person):\n",
    "    print(\"{0},你好\".format(person))\n",
    "    print(\"Sir, good morning\")\n",
    "    \n",
    "p = \"龄松\"\n",
    "hello(p)"
   ]
  },
  {
   "cell_type": "code",
   "execution_count": 15,
   "metadata": {},
   "outputs": [
    {
     "name": "stdout",
     "output_type": "stream",
     "text": [
      "龄松,你好\n",
      "Sir, good morning\n",
      "我向龄松问好了\n"
     ]
    }
   ],
   "source": [
    "# return 语句的基本使用\n",
    "# 函数打完招呼后返回一句话\n",
    "def hello(person):\n",
    "    print(\"{0},你好\".format(person))\n",
    "    print(\"Sir, good morning\")\n",
    "    return \"我向{0}问好了\".format(person)\n",
    "p = \"龄松\"\n",
    "rst = hello(p)\n",
    "print(rst)"
   ]
  },
  {
   "cell_type": "code",
   "execution_count": 16,
   "metadata": {},
   "outputs": [
    {
     "name": "stdout",
     "output_type": "stream",
     "text": [
      "龄松,你好\n",
      "哈哈，我提前结束了\n"
     ]
    }
   ],
   "source": [
    "# return案例2\n",
    "def hello(person):\n",
    "    print(\"{0},你好\".format(person))\n",
    "    return\"哈哈，我提前结束了\"\n",
    "    print(\"Sir, good morning\")\n",
    "    return \"我向{0}问好了\".format(person)\n",
    "p = \"龄松\"\n",
    "rst = hello(p)\n",
    "print(rst)"
   ]
  },
  {
   "cell_type": "code",
   "execution_count": 23,
   "metadata": {},
   "outputs": [
    {
     "name": "stdout",
     "output_type": "stream",
     "text": [
      "1  -----------\n",
      "2  4  -----------\n",
      "3  6  9  -----------\n",
      "4  8  12  16  -----------\n",
      "5  10  15  20  25  -----------\n",
      "6  12  18  24  30  36  -----------\n",
      "7  14  21  28  35  42  49  -----------\n",
      "8  16  24  32  40  48  56  64  -----------\n",
      "9  18  27  36  45  54  63  72  81  -----------\n"
     ]
    }
   ],
   "source": [
    "# 九九乘法表\n",
    "# version 1.0\n",
    "for row in range(1,10):\n",
    "    #打印一行\n",
    "    for col in range(1,row+1):\n",
    "        #print 函数默认任务打印完毕后换行\n",
    "        print(row*col,end = \"  \")\n",
    "    print(\"-----------\")"
   ]
  },
  {
   "cell_type": "code",
   "execution_count": 26,
   "metadata": {},
   "outputs": [
    {
     "name": "stdout",
     "output_type": "stream",
     "text": [
      "1   \n",
      "2  4   \n",
      "3  6  9   \n",
      "4  8  12  16   \n",
      "5  10  15  20  25   \n",
      "6  12  18  24  30  36   \n",
      "7  14  21  28  35  42  49   \n",
      "8  16  24  32  40  48  56  64   \n",
      "9  18  27  36  45  54  63  72  81   \n"
     ]
    }
   ],
   "source": [
    "# 定义一个函数，打印一行九九乘法表\n",
    "def printline(row):\n",
    "    for col in range(1,row+1):\n",
    "        #print 函数默认任务打印完毕后换行\n",
    "        print(row*col,end = \"  \")\n",
    "    print(\" \")\n",
    "    pass\n",
    "# 九九乘法表\n",
    "# version 2.0\n",
    "for row in range(1,10):\n",
    "    printline(row)\n",
    "    "
   ]
  },
  {
   "cell_type": "code",
   "execution_count": 19,
   "metadata": {},
   "outputs": [
    {
     "name": "stdout",
     "output_type": "stream",
     "text": [
      "Help on built-in function print in module builtins:\n",
      "\n",
      "print(...)\n",
      "    print(value, ..., sep=' ', end='\\n', file=sys.stdout, flush=False)\n",
      "    \n",
      "    Prints the values to a stream, or to sys.stdout by default.\n",
      "    Optional keyword arguments:\n",
      "    file:  a file-like object (stream); defaults to the current sys.stdout.\n",
      "    sep:   string inserted between values, default a space.\n",
      "    end:   string appended after the last value, default a newline.\n",
      "    flush: whether to forcibly flush the stream.\n",
      "\n"
     ]
    }
   ],
   "source": [
    "# 查找函数帮助文档\n",
    "# 1.用heip函数\n",
    "help(print)"
   ]
  },
  {
   "cell_type": "markdown",
   "metadata": {},
   "source": [
    "## 参数详解\n",
    "- 【参考资料】（http://www.cnblogs.com/bingabcd/p/6671368.html）\n",
    "- python参考资料：headfirst python -> 零基础入门学习python（小甲鱼） -》后期可以考虑腾讯公开免费课\n",
    "- 参数分类\n",
    "    - 普通参数\n",
    "    - 默认参数\n",
    "    - 关键字参数\n",
    "    - 收集参数\n",
    "- 普通参数\n",
    "    - 参见上例\n",
    "    - 定义的时候直接定义变量名\n",
    "    - 调用的时候直接把变量或者值放入指定位置\n",
    "    \n",
    "    def 函数名(参数1，参数2，……):\n",
    "    函数体\n",
    "    \n",
    "    调用\n",
    "    函数名(value1,value2,……)\n",
    "    \n",
    "    调用的时候，具体值参考的是位置，按位置赋值\n",
    "- 默认参数\n",
    "    - 形参带有默认值\n",
    "    - 调用的时候，如果没有对对应的形参赋值，即使用默认值\n",
    "    \n",
    "    def func_name(p1 = v1, p2 = v2,……):\n",
    "       func_block\n",
    "       \n",
    "       调用1\n",
    "       func_name()\n",
    "       \n",
    "       调用2\n",
    "       value1 = 100\n",
    "       value2 = 200\n",
    "       funcname(value1, value2)"
   ]
  },
  {
   "cell_type": "code",
   "execution_count": 35,
   "metadata": {},
   "outputs": [],
   "source": [
    "# 默认参数示例\n",
    "# 报名函数，需要知道学生性别\n",
    "# 默认男生\n",
    "def reg(name, age, gender = \"male\"):\n",
    "    if gender == \"male\":\n",
    "        print(\"{0} is {1}, and he is a good student\".format(name, age))\n",
    "    else:\n",
    "        print(\"{0} is {1}, and she is a good student\".format(name, age))\n",
    "    "
   ]
  },
  {
   "cell_type": "code",
   "execution_count": 37,
   "metadata": {},
   "outputs": [
    {
     "name": "stdout",
     "output_type": "stream",
     "text": [
      "LiMing is 20, and he is a good student\n",
      "Xiaojing is 23, and she is a good student\n"
     ]
    }
   ],
   "source": [
    "# 调用默认参数函数案例1\n",
    "reg(\"LiMing\", 20)\n",
    "reg(\"Xiaojing\",23,\"female\")"
   ]
  }
 ],
 "metadata": {
  "kernelspec": {
   "display_name": "Python 3",
   "language": "python",
   "name": "python3"
  },
  "language_info": {
   "codemirror_mode": {
    "name": "ipython",
    "version": 3
   },
   "file_extension": ".py",
   "mimetype": "text/x-python",
   "name": "python",
   "nbconvert_exporter": "python",
   "pygments_lexer": "ipython3",
   "version": "3.7.0"
  }
 },
 "nbformat": 4,
 "nbformat_minor": 2
}
